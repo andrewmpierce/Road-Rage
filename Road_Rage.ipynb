{
 "cells": [
  {
   "cell_type": "code",
   "execution_count": 67,
   "metadata": {
    "collapsed": false
   },
   "outputs": [],
   "source": [
    "import math\n",
    "import random\n",
    "import statistics as st\n",
    "import matplotlib.pyplot as plt\n",
    "import numpy as np\n",
    "from traffic_lib import *"
   ]
  },
  {
   "cell_type": "code",
   "execution_count": 68,
   "metadata": {
    "collapsed": true
   },
   "outputs": [],
   "source": [
    "%matplotlib inline\n"
   ]
  },
  {
   "cell_type": "code",
   "execution_count": 81,
   "metadata": {
    "collapsed": false
   },
   "outputs": [],
   "source": [
    "#All speed unit\n"
   ]
  },
  {
   "cell_type": "code",
   "execution_count": 82,
   "metadata": {
    "collapsed": false
   },
   "outputs": [],
   "source": [
    "class Road:\n",
    "    def __init__(self):\n",
    "        self.cars = [Car() for x in range(30)]\n",
    "        self.road_map = np.array([0 for _ in range(1050)])\n",
    "    \n",
    "    \n",
    "    def place_cars_init(self):\n",
    "        placement = 0\n",
    "        for car in self.cars:\n",
    "            car.location = placement\n",
    "            placement += 33\n",
    "    \n",
    "    \n",
    "    def update_road_map(self):\n",
    "        self.road_map = np.array([0 for _ in range(1050)])\n",
    "        for car in self.cars:\n",
    "            for x in range(5):\n",
    "                self.road_map[car.location+x] = 1\n",
    "    \n",
    "    def change_car_speed(self):\n",
    "        idx = 0\n",
    "        for car in self.cars:\n",
    "            space = []\n",
    "            for x in self.road_map[(car.location+5):(car.location+5)+car.speed]:\n",
    "                space.append(x)\n",
    "                \n",
    "            if random.random() <= .10:\n",
    "                if car.speed > 0:\n",
    "                    car.speed -= 2\n",
    "                    \n",
    "            elif sum(space) == 0 and car.speed <= car.max_speed:\n",
    "                car.speed += 2\n",
    "                \n",
    "            elif sum(space) > 0 and sum(space) <5:\n",
    "                if idx == 29:\n",
    "                    car.speed = self.cars[0].speed\n",
    "                else:\n",
    "                    car.speed = self.cars[idx+1].speed\n",
    "                \n",
    "            elif sum(space) > 5:\n",
    "                if car.speed > 0:\n",
    "                    car.speed = 0\n",
    "            idx+=1\n",
    "    \n",
    "    \n",
    "    def drive(self):\n",
    "        return [car.move() for car in self.cars]\n",
    "    \n",
    "    \n",
    "    def check_cars(self):\n",
    "        return [car.speed for car in self.cars]\n",
    "    \n",
    "    \n",
    "    def reset(self):\n",
    "        self.road_map = [0 for _ in range(1050)]\n",
    "        self.place_cars_init()\n",
    "        self.update_road_map()\n",
    "\n",
    "        "
   ]
  },
  {
   "cell_type": "code",
   "execution_count": null,
   "metadata": {
    "collapsed": false
   },
   "outputs": [],
   "source": []
  },
  {
   "cell_type": "code",
   "execution_count": 83,
   "metadata": {
    "collapsed": false
   },
   "outputs": [],
   "source": []
  },
  {
   "cell_type": "code",
   "execution_count": 84,
   "metadata": {
    "collapsed": false
   },
   "outputs": [
    {
     "name": "stdout",
     "output_type": "stream",
     "text": [
      "20.0\n",
      "21.333333333333332\n",
      "22.8\n",
      "23.533333333333335\n",
      "23.666666666666668\n",
      "24.666666666666668\n",
      "25.4\n",
      "26.2\n",
      "27.2\n",
      "26.866666666666667\n",
      "27.333333333333332\n",
      "26.8\n",
      "27.466666666666665\n",
      "26.666666666666668\n",
      "27.2\n",
      "26.933333333333334\n",
      "26.333333333333332\n",
      "24.933333333333334\n",
      "23.8\n",
      "21.866666666666667\n",
      "19.533333333333335\n",
      "16.333333333333332\n",
      "13.8\n",
      "14.666666666666666\n",
      "12.733333333333333\n",
      "11.8\n",
      "10.733333333333333\n",
      "9.466666666666667\n",
      "9.8\n",
      "10.266666666666667\n",
      "10.6\n",
      "11.133333333333333\n",
      "12.266666666666667\n",
      "13.533333333333333\n",
      "13.8\n",
      "13.133333333333333\n",
      "13.866666666666667\n",
      "15.266666666666667\n",
      "14.533333333333333\n",
      "15.866666666666667\n",
      "15.266666666666667\n",
      "16.666666666666668\n",
      "17.266666666666666\n",
      "17.466666666666665\n",
      "17.466666666666665\n",
      "17.133333333333333\n",
      "15.933333333333334\n",
      "16.533333333333335\n",
      "14.6\n",
      "14.2\n",
      "12.4\n",
      "13.933333333333334\n",
      "14.0\n",
      "14.133333333333333\n",
      "14.066666666666666\n",
      "13.066666666666666\n",
      "14.933333333333334\n",
      "13.866666666666667\n",
      "14.666666666666666\n",
      "15.8\n",
      "[array([0, 0, 0, ..., 0, 0, 0]), array([0, 0, 0, ..., 0, 0, 0]), array([0, 0, 0, ..., 0, 0, 0]), array([0, 0, 0, ..., 0, 0, 0]), array([0, 0, 0, ..., 0, 0, 0]), array([0, 1, 1, ..., 0, 0, 0]), array([0, 0, 0, ..., 0, 0, 0]), array([0, 0, 0, ..., 0, 0, 0]), array([0, 0, 0, ..., 0, 0, 0]), array([0, 0, 0, ..., 0, 0, 0]), array([0, 0, 0, ..., 0, 0, 0]), array([0, 0, 0, ..., 0, 0, 0]), array([0, 0, 0, ..., 0, 0, 0]), array([0, 0, 0, ..., 0, 0, 0]), array([0, 0, 0, ..., 0, 0, 0]), array([0, 0, 0, ..., 0, 0, 0]), array([0, 0, 0, ..., 0, 0, 0]), array([0, 0, 0, ..., 0, 0, 0]), array([0, 0, 0, ..., 0, 0, 0]), array([0, 1, 1, ..., 0, 0, 0]), array([0, 0, 0, ..., 0, 0, 0]), array([0, 0, 0, ..., 0, 0, 0]), array([0, 0, 0, ..., 0, 0, 0]), array([0, 0, 0, ..., 0, 0, 0]), array([0, 0, 0, ..., 0, 0, 0]), array([0, 0, 0, ..., 0, 0, 0]), array([0, 0, 0, ..., 0, 0, 0]), array([0, 1, 1, ..., 0, 0, 0]), array([0, 1, 1, ..., 0, 0, 0]), array([0, 0, 0, ..., 0, 0, 0]), array([0, 0, 0, ..., 0, 0, 0]), array([0, 0, 0, ..., 0, 0, 0]), array([0, 0, 0, ..., 0, 0, 0]), array([0, 0, 0, ..., 0, 0, 0]), array([0, 0, 0, ..., 0, 0, 0]), array([0, 0, 0, ..., 0, 0, 0]), array([0, 0, 0, ..., 0, 0, 0]), array([0, 0, 0, ..., 0, 0, 0]), array([0, 0, 0, ..., 0, 0, 0]), array([0, 0, 0, ..., 0, 0, 0]), array([0, 0, 0, ..., 0, 0, 0]), array([0, 0, 0, ..., 0, 0, 0]), array([0, 0, 0, ..., 0, 0, 0]), array([0, 0, 0, ..., 0, 0, 0]), array([0, 0, 0, ..., 0, 0, 0]), array([0, 0, 0, ..., 0, 0, 0]), array([0, 0, 0, ..., 0, 0, 0]), array([0, 0, 0, ..., 0, 0, 0]), array([0, 0, 0, ..., 0, 0, 0]), array([0, 0, 0, ..., 0, 0, 0]), array([0, 0, 0, ..., 0, 0, 0]), array([0, 0, 0, ..., 0, 0, 0]), array([0, 0, 0, ..., 0, 0, 0]), array([0, 0, 0, ..., 0, 0, 0]), array([0, 0, 0, ..., 0, 0, 0]), array([0, 0, 0, ..., 0, 0, 0]), array([0, 0, 0, ..., 0, 0, 0]), array([0, 0, 0, ..., 0, 0, 0]), array([0, 0, 0, ..., 0, 0, 0]), array([0, 0, 0, ..., 0, 0, 0])]\n"
     ]
    }
   ],
   "source": [
    "sim = Sim()\n",
    "trial_data = sim.run()\n",
    "print(trial_data)"
   ]
  },
  {
   "cell_type": "code",
   "execution_count": null,
   "metadata": {
    "collapsed": false
   },
   "outputs": [],
   "source": [
    "img_data = trial_data.astype('float32')\n",
    "#print(img_data)\n",
    "\n",
    "plt.figure(figsize=(20, 20)) # size is in \"inches\"\n",
    "plt.imshow(img_data, cmap='bone', interpolation='nearest')"
   ]
  },
  {
   "cell_type": "code",
   "execution_count": null,
   "metadata": {
    "collapsed": true
   },
   "outputs": [],
   "source": []
  },
  {
   "cell_type": "code",
   "execution_count": null,
   "metadata": {
    "collapsed": true
   },
   "outputs": [],
   "source": []
  }
 ],
 "metadata": {
  "kernelspec": {
   "display_name": "Python 3",
   "language": "python",
   "name": "python3"
  },
  "language_info": {
   "codemirror_mode": {
    "name": "ipython",
    "version": 3
   },
   "file_extension": ".py",
   "mimetype": "text/x-python",
   "name": "python",
   "nbconvert_exporter": "python",
   "pygments_lexer": "ipython3",
   "version": "3.4.3"
  }
 },
 "nbformat": 4,
 "nbformat_minor": 0
}
