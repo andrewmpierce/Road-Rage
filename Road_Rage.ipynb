{
 "cells": [
  {
   "cell_type": "code",
   "execution_count": 234,
   "metadata": {
    "collapsed": false
   },
   "outputs": [],
   "source": [
    "import math\n",
    "import random\n",
    "import statistics as st\n",
    "import matplotlib.pyplot as plt\n",
    "import numpy as np"
   ]
  },
  {
   "cell_type": "code",
   "execution_count": 235,
   "metadata": {
    "collapsed": true
   },
   "outputs": [],
   "source": [
    "%matplotlib inline\n"
   ]
  },
  {
   "cell_type": "code",
   "execution_count": 255,
   "metadata": {
    "collapsed": false
   },
   "outputs": [],
   "source": [
    "#All speed units will be in meters/sec\n",
    "\n",
    "class Car:\n",
    "    def __init__(self, car_id, size = 5, speed = 30, location = 0):\n",
    "        self.car_id = car_id\n",
    "        self.size = size\n",
    "        self.speed = speed\n",
    "        self.location = location\n",
    "            \n",
    "        \n",
    "    def move(self):\n",
    "        self.location += self.speed \n",
    "        if self.location > 1000:\n",
    "            self.location = abs(self.location % 1000)\n",
    "        return self.location\n",
    "    \n",
    "    def check_loc(self):\n",
    "        return(\"I'm car {} and I'm at {}\".format(self.car_id, self.location))\n",
    "    \n",
    "    \n"
   ]
  },
  {
   "cell_type": "code",
   "execution_count": 270,
   "metadata": {
    "collapsed": false
   },
   "outputs": [],
   "source": [
    "class Road:\n",
    "    def __init__(self):\n",
    "        self.cars = self.make_cars()\n",
    "        self.road_map = np.array([0 for _ in range(1050)])\n",
    "    \n",
    "    def make_cars(self, num = 30):\n",
    "        all_cars = []\n",
    "        for x in range(num):\n",
    "            all_cars.append(Car(car_id = x))\n",
    "        return all_cars\n",
    "    \n",
    "    def place_cars_init(self):\n",
    "        placement = 0\n",
    "        for car in self.cars:\n",
    "            car.location = placement\n",
    "            placement += 20\n",
    "    \n",
    "    \n",
    "    def update_road_map(self):\n",
    "        self.road_map = np.array([0 for _ in range(1050)])\n",
    "        for car in self.cars:\n",
    "            for x in range(5):\n",
    "                self.road_map[car.location+x] = 1\n",
    "    \n",
    "    def change_car_speed(self):\n",
    "        for car in self.cars:\n",
    "            space = []\n",
    "            for x in self.road_map[car.location:car.location+car.speed]:\n",
    "                space.append(x)\n",
    "            if car.car_id == 29:\n",
    "                car.speed = car.speed\n",
    "            if random.random() <= .10:\n",
    "                car.speed -= 2\n",
    "            elif sum(space) == 0:\n",
    "                car.speed += 2\n",
    "            elif sum(space) > 5:\n",
    "                car.speed = 0\n",
    "    \n",
    "    \n",
    "    def drive(self):\n",
    "        return [car.move() for car in self.cars]\n",
    "    \n",
    "    \n",
    "    def check_cars(self):\n",
    "        return [car.check_loc() for car in self.cars]\n",
    "    \n",
    "    \n",
    "    def reset(self):\n",
    "        self.road_map = [0 for _ in range(1050)]\n",
    "        self.place_cars_init()\n",
    "        self.update_road_map()\n",
    "\n",
    "        "
   ]
  },
  {
   "cell_type": "code",
   "execution_count": null,
   "metadata": {
    "collapsed": false
   },
   "outputs": [],
   "source": []
  },
  {
   "cell_type": "code",
   "execution_count": 271,
   "metadata": {
    "collapsed": false
   },
   "outputs": [],
   "source": [
    "class Sim:\n",
    "    def __init__(self):\n",
    "        self.ticks = 0\n",
    "        self.road = Road()\n",
    "\n",
    "    \n",
    "    \n",
    "    def tick(self):\n",
    "        road_data_sec = np.array(self.road.road_map)\n",
    "        stats = {'location': self.road.check_cars()[25:]}\n",
    "        self.road.change_car_speed()\n",
    "        self.road.drive()\n",
    "        self.road.update_road_map()\n",
    "        print(stats)\n",
    "        return road_data_sec\n",
    "\n",
    "        \n",
    "    def reset(self):\n",
    "        return self.ticks == 0\n",
    "    \n",
    "    \n",
    "    def run(self, num_ticks = 100):\n",
    "        all_data = []\n",
    "        self.road.place_cars_init()\n",
    "        for tick in range(num_ticks):\n",
    "            all_data.append(self.tick())\n",
    "            self.ticks += 1\n",
    "            \n",
    "        return np.array(all_data)\n",
    "        "
   ]
  },
  {
   "cell_type": "code",
   "execution_count": 272,
   "metadata": {
    "collapsed": false
   },
   "outputs": [
    {
     "name": "stdout",
     "output_type": "stream",
     "text": [
      "{'location': [\"I'm car 25 and I'm at 500\", \"I'm car 26 and I'm at 520\", \"I'm car 27 and I'm at 540\", \"I'm car 28 and I'm at 560\", \"I'm car 29 and I'm at 580\"]}\n",
      "{'location': [\"I'm car 25 and I'm at 532\", \"I'm car 26 and I'm at 552\", \"I'm car 27 and I'm at 572\", \"I'm car 28 and I'm at 592\", \"I'm car 29 and I'm at 612\"]}\n",
      "{'location': [\"I'm car 25 and I'm at 532\", \"I'm car 26 and I'm at 552\", \"I'm car 27 and I'm at 572\", \"I'm car 28 and I'm at 622\", \"I'm car 29 and I'm at 644\"]}\n",
      "{'location': [\"I'm car 25 and I'm at 534\", \"I'm car 26 and I'm at 554\", \"I'm car 27 and I'm at 574\", \"I'm car 28 and I'm at 622\", \"I'm car 29 and I'm at 676\"]}\n",
      "{'location': [\"I'm car 25 and I'm at 534\", \"I'm car 26 and I'm at 556\", \"I'm car 27 and I'm at 576\", \"I'm car 28 and I'm at 624\", \"I'm car 29 and I'm at 708\"]}\n",
      "{'location': [\"I'm car 25 and I'm at 536\", \"I'm car 26 and I'm at 558\", \"I'm car 27 and I'm at 578\", \"I'm car 28 and I'm at 626\", \"I'm car 29 and I'm at 740\"]}\n",
      "{'location': [\"I'm car 25 and I'm at 536\", \"I'm car 26 and I'm at 560\", \"I'm car 27 and I'm at 580\", \"I'm car 28 and I'm at 628\", \"I'm car 29 and I'm at 772\"]}\n",
      "{'location': [\"I'm car 25 and I'm at 538\", \"I'm car 26 and I'm at 562\", \"I'm car 27 and I'm at 582\", \"I'm car 28 and I'm at 630\", \"I'm car 29 and I'm at 804\"]}\n",
      "{'location': [\"I'm car 25 and I'm at 540\", \"I'm car 26 and I'm at 562\", \"I'm car 27 and I'm at 582\", \"I'm car 28 and I'm at 632\", \"I'm car 29 and I'm at 836\"]}\n",
      "{'location': [\"I'm car 25 and I'm at 542\", \"I'm car 26 and I'm at 564\", \"I'm car 27 and I'm at 584\", \"I'm car 28 and I'm at 634\", \"I'm car 29 and I'm at 866\"]}\n",
      "{'location': [\"I'm car 25 and I'm at 544\", \"I'm car 26 and I'm at 566\", \"I'm car 27 and I'm at 586\", \"I'm car 28 and I'm at 636\", \"I'm car 29 and I'm at 896\"]}\n",
      "{'location': [\"I'm car 25 and I'm at 546\", \"I'm car 26 and I'm at 568\", \"I'm car 27 and I'm at 586\", \"I'm car 28 and I'm at 638\", \"I'm car 29 and I'm at 926\"]}\n",
      "{'location': [\"I'm car 25 and I'm at 548\", \"I'm car 26 and I'm at 568\", \"I'm car 27 and I'm at 584\", \"I'm car 28 and I'm at 640\", \"I'm car 29 and I'm at 956\"]}\n",
      "{'location': [\"I'm car 25 and I'm at 550\", \"I'm car 26 and I'm at 570\", \"I'm car 27 and I'm at 584\", \"I'm car 28 and I'm at 640\", \"I'm car 29 and I'm at 986\"]}\n",
      "{'location': [\"I'm car 25 and I'm at 552\", \"I'm car 26 and I'm at 572\", \"I'm car 27 and I'm at 586\", \"I'm car 28 and I'm at 638\", \"I'm car 29 and I'm at 16\"]}\n",
      "{'location': [\"I'm car 25 and I'm at 552\", \"I'm car 26 and I'm at 574\", \"I'm car 27 and I'm at 588\", \"I'm car 28 and I'm at 638\", \"I'm car 29 and I'm at 46\"]}\n",
      "{'location': [\"I'm car 25 and I'm at 550\", \"I'm car 26 and I'm at 576\", \"I'm car 27 and I'm at 590\", \"I'm car 28 and I'm at 640\", \"I'm car 29 and I'm at 46\"]}\n",
      "{'location': [\"I'm car 25 and I'm at 550\", \"I'm car 26 and I'm at 578\", \"I'm car 27 and I'm at 592\", \"I'm car 28 and I'm at 642\", \"I'm car 29 and I'm at 48\"]}\n",
      "{'location': [\"I'm car 25 and I'm at 552\", \"I'm car 26 and I'm at 580\", \"I'm car 27 and I'm at 592\", \"I'm car 28 and I'm at 644\", \"I'm car 29 and I'm at 50\"]}\n",
      "{'location': [\"I'm car 25 and I'm at 554\", \"I'm car 26 and I'm at 582\", \"I'm car 27 and I'm at 594\", \"I'm car 28 and I'm at 646\", \"I'm car 29 and I'm at 52\"]}\n",
      "{'location': [\"I'm car 25 and I'm at 554\", \"I'm car 26 and I'm at 584\", \"I'm car 27 and I'm at 596\", \"I'm car 28 and I'm at 648\", \"I'm car 29 and I'm at 54\"]}\n",
      "{'location': [\"I'm car 25 and I'm at 556\", \"I'm car 26 and I'm at 586\", \"I'm car 27 and I'm at 598\", \"I'm car 28 and I'm at 650\", \"I'm car 29 and I'm at 56\"]}\n",
      "{'location': [\"I'm car 25 and I'm at 558\", \"I'm car 26 and I'm at 588\", \"I'm car 27 and I'm at 600\", \"I'm car 28 and I'm at 652\", \"I'm car 29 and I'm at 58\"]}\n",
      "{'location': [\"I'm car 25 and I'm at 560\", \"I'm car 26 and I'm at 590\", \"I'm car 27 and I'm at 602\", \"I'm car 28 and I'm at 654\", \"I'm car 29 and I'm at 60\"]}\n",
      "{'location': [\"I'm car 25 and I'm at 562\", \"I'm car 26 and I'm at 592\", \"I'm car 27 and I'm at 604\", \"I'm car 28 and I'm at 656\", \"I'm car 29 and I'm at 62\"]}\n",
      "{'location': [\"I'm car 25 and I'm at 564\", \"I'm car 26 and I'm at 594\", \"I'm car 27 and I'm at 604\", \"I'm car 28 and I'm at 658\", \"I'm car 29 and I'm at 64\"]}\n",
      "{'location': [\"I'm car 25 and I'm at 566\", \"I'm car 26 and I'm at 596\", \"I'm car 27 and I'm at 606\", \"I'm car 28 and I'm at 660\", \"I'm car 29 and I'm at 66\"]}\n",
      "{'location': [\"I'm car 25 and I'm at 568\", \"I'm car 26 and I'm at 598\", \"I'm car 27 and I'm at 606\", \"I'm car 28 and I'm at 662\", \"I'm car 29 and I'm at 68\"]}\n",
      "{'location': [\"I'm car 25 and I'm at 570\", \"I'm car 26 and I'm at 600\", \"I'm car 27 and I'm at 604\", \"I'm car 28 and I'm at 664\", \"I'm car 29 and I'm at 70\"]}\n",
      "{'location': [\"I'm car 25 and I'm at 572\", \"I'm car 26 and I'm at 602\", \"I'm car 27 and I'm at 604\", \"I'm car 28 and I'm at 666\", \"I'm car 29 and I'm at 72\"]}\n",
      "{'location': [\"I'm car 25 and I'm at 574\", \"I'm car 26 and I'm at 604\", \"I'm car 27 and I'm at 606\", \"I'm car 28 and I'm at 668\", \"I'm car 29 and I'm at 74\"]}\n",
      "{'location': [\"I'm car 25 and I'm at 576\", \"I'm car 26 and I'm at 606\", \"I'm car 27 and I'm at 606\", \"I'm car 28 and I'm at 670\", \"I'm car 29 and I'm at 76\"]}\n",
      "{'location': [\"I'm car 25 and I'm at 578\", \"I'm car 26 and I'm at 608\", \"I'm car 27 and I'm at 608\", \"I'm car 28 and I'm at 672\", \"I'm car 29 and I'm at 78\"]}\n",
      "{'location': [\"I'm car 25 and I'm at 580\", \"I'm car 26 and I'm at 610\", \"I'm car 27 and I'm at 610\", \"I'm car 28 and I'm at 674\", \"I'm car 29 and I'm at 80\"]}\n",
      "{'location': [\"I'm car 25 and I'm at 582\", \"I'm car 26 and I'm at 612\", \"I'm car 27 and I'm at 612\", \"I'm car 28 and I'm at 674\", \"I'm car 29 and I'm at 82\"]}\n",
      "{'location': [\"I'm car 25 and I'm at 584\", \"I'm car 26 and I'm at 614\", \"I'm car 27 and I'm at 614\", \"I'm car 28 and I'm at 676\", \"I'm car 29 and I'm at 84\"]}\n",
      "{'location': [\"I'm car 25 and I'm at 586\", \"I'm car 26 and I'm at 616\", \"I'm car 27 and I'm at 616\", \"I'm car 28 and I'm at 678\", \"I'm car 29 and I'm at 86\"]}\n",
      "{'location': [\"I'm car 25 and I'm at 588\", \"I'm car 26 and I'm at 616\", \"I'm car 27 and I'm at 618\", \"I'm car 28 and I'm at 680\", \"I'm car 29 and I'm at 88\"]}\n",
      "{'location': [\"I'm car 25 and I'm at 590\", \"I'm car 26 and I'm at 618\", \"I'm car 27 and I'm at 620\", \"I'm car 28 and I'm at 682\", \"I'm car 29 and I'm at 90\"]}\n",
      "{'location': [\"I'm car 25 and I'm at 592\", \"I'm car 26 and I'm at 618\", \"I'm car 27 and I'm at 620\", \"I'm car 28 and I'm at 684\", \"I'm car 29 and I'm at 92\"]}\n",
      "{'location': [\"I'm car 25 and I'm at 594\", \"I'm car 26 and I'm at 620\", \"I'm car 27 and I'm at 622\", \"I'm car 28 and I'm at 686\", \"I'm car 29 and I'm at 94\"]}\n",
      "{'location': [\"I'm car 25 and I'm at 594\", \"I'm car 26 and I'm at 622\", \"I'm car 27 and I'm at 624\", \"I'm car 28 and I'm at 688\", \"I'm car 29 and I'm at 96\"]}\n",
      "{'location': [\"I'm car 25 and I'm at 596\", \"I'm car 26 and I'm at 624\", \"I'm car 27 and I'm at 626\", \"I'm car 28 and I'm at 690\", \"I'm car 29 and I'm at 98\"]}\n",
      "{'location': [\"I'm car 25 and I'm at 598\", \"I'm car 26 and I'm at 626\", \"I'm car 27 and I'm at 628\", \"I'm car 28 and I'm at 692\", \"I'm car 29 and I'm at 100\"]}\n",
      "{'location': [\"I'm car 25 and I'm at 600\", \"I'm car 26 and I'm at 628\", \"I'm car 27 and I'm at 630\", \"I'm car 28 and I'm at 694\", \"I'm car 29 and I'm at 102\"]}\n",
      "{'location': [\"I'm car 25 and I'm at 602\", \"I'm car 26 and I'm at 630\", \"I'm car 27 and I'm at 630\", \"I'm car 28 and I'm at 696\", \"I'm car 29 and I'm at 104\"]}\n",
      "{'location': [\"I'm car 25 and I'm at 604\", \"I'm car 26 and I'm at 630\", \"I'm car 27 and I'm at 632\", \"I'm car 28 and I'm at 698\", \"I'm car 29 and I'm at 106\"]}\n",
      "{'location': [\"I'm car 25 and I'm at 606\", \"I'm car 26 and I'm at 632\", \"I'm car 27 and I'm at 634\", \"I'm car 28 and I'm at 700\", \"I'm car 29 and I'm at 106\"]}\n",
      "{'location': [\"I'm car 25 and I'm at 608\", \"I'm car 26 and I'm at 632\", \"I'm car 27 and I'm at 636\", \"I'm car 28 and I'm at 702\", \"I'm car 29 and I'm at 108\"]}\n",
      "{'location': [\"I'm car 25 and I'm at 610\", \"I'm car 26 and I'm at 634\", \"I'm car 27 and I'm at 636\", \"I'm car 28 and I'm at 704\", \"I'm car 29 and I'm at 110\"]}\n",
      "{'location': [\"I'm car 25 and I'm at 612\", \"I'm car 26 and I'm at 636\", \"I'm car 27 and I'm at 638\", \"I'm car 28 and I'm at 706\", \"I'm car 29 and I'm at 112\"]}\n",
      "{'location': [\"I'm car 25 and I'm at 614\", \"I'm car 26 and I'm at 638\", \"I'm car 27 and I'm at 640\", \"I'm car 28 and I'm at 708\", \"I'm car 29 and I'm at 114\"]}\n",
      "{'location': [\"I'm car 25 and I'm at 616\", \"I'm car 26 and I'm at 640\", \"I'm car 27 and I'm at 642\", \"I'm car 28 and I'm at 710\", \"I'm car 29 and I'm at 114\"]}\n",
      "{'location': [\"I'm car 25 and I'm at 618\", \"I'm car 26 and I'm at 640\", \"I'm car 27 and I'm at 644\", \"I'm car 28 and I'm at 712\", \"I'm car 29 and I'm at 116\"]}\n",
      "{'location': [\"I'm car 25 and I'm at 620\", \"I'm car 26 and I'm at 642\", \"I'm car 27 and I'm at 646\", \"I'm car 28 and I'm at 714\", \"I'm car 29 and I'm at 116\"]}\n",
      "{'location': [\"I'm car 25 and I'm at 622\", \"I'm car 26 and I'm at 644\", \"I'm car 27 and I'm at 648\", \"I'm car 28 and I'm at 716\", \"I'm car 29 and I'm at 118\"]}\n",
      "{'location': [\"I'm car 25 and I'm at 624\", \"I'm car 26 and I'm at 646\", \"I'm car 27 and I'm at 650\", \"I'm car 28 and I'm at 718\", \"I'm car 29 and I'm at 120\"]}\n",
      "{'location': [\"I'm car 25 and I'm at 624\", \"I'm car 26 and I'm at 648\", \"I'm car 27 and I'm at 652\", \"I'm car 28 and I'm at 720\", \"I'm car 29 and I'm at 122\"]}\n",
      "{'location': [\"I'm car 25 and I'm at 626\", \"I'm car 26 and I'm at 650\", \"I'm car 27 and I'm at 654\", \"I'm car 28 and I'm at 722\", \"I'm car 29 and I'm at 124\"]}\n",
      "{'location': [\"I'm car 25 and I'm at 628\", \"I'm car 26 and I'm at 652\", \"I'm car 27 and I'm at 656\", \"I'm car 28 and I'm at 724\", \"I'm car 29 and I'm at 126\"]}\n",
      "{'location': [\"I'm car 25 and I'm at 630\", \"I'm car 26 and I'm at 654\", \"I'm car 27 and I'm at 658\", \"I'm car 28 and I'm at 726\", \"I'm car 29 and I'm at 126\"]}\n",
      "{'location': [\"I'm car 25 and I'm at 632\", \"I'm car 26 and I'm at 656\", \"I'm car 27 and I'm at 660\", \"I'm car 28 and I'm at 728\", \"I'm car 29 and I'm at 128\"]}\n",
      "{'location': [\"I'm car 25 and I'm at 634\", \"I'm car 26 and I'm at 658\", \"I'm car 27 and I'm at 662\", \"I'm car 28 and I'm at 730\", \"I'm car 29 and I'm at 130\"]}\n",
      "{'location': [\"I'm car 25 and I'm at 636\", \"I'm car 26 and I'm at 660\", \"I'm car 27 and I'm at 664\", \"I'm car 28 and I'm at 732\", \"I'm car 29 and I'm at 130\"]}\n",
      "{'location': [\"I'm car 25 and I'm at 638\", \"I'm car 26 and I'm at 660\", \"I'm car 27 and I'm at 666\", \"I'm car 28 and I'm at 734\", \"I'm car 29 and I'm at 132\"]}\n",
      "{'location': [\"I'm car 25 and I'm at 640\", \"I'm car 26 and I'm at 662\", \"I'm car 27 and I'm at 668\", \"I'm car 28 and I'm at 736\", \"I'm car 29 and I'm at 134\"]}\n",
      "{'location': [\"I'm car 25 and I'm at 642\", \"I'm car 26 and I'm at 664\", \"I'm car 27 and I'm at 670\", \"I'm car 28 and I'm at 738\", \"I'm car 29 and I'm at 134\"]}\n",
      "{'location': [\"I'm car 25 and I'm at 644\", \"I'm car 26 and I'm at 666\", \"I'm car 27 and I'm at 672\", \"I'm car 28 and I'm at 740\", \"I'm car 29 and I'm at 132\"]}\n",
      "{'location': [\"I'm car 25 and I'm at 646\", \"I'm car 26 and I'm at 668\", \"I'm car 27 and I'm at 674\", \"I'm car 28 and I'm at 742\", \"I'm car 29 and I'm at 132\"]}\n",
      "{'location': [\"I'm car 25 and I'm at 648\", \"I'm car 26 and I'm at 670\", \"I'm car 27 and I'm at 676\", \"I'm car 28 and I'm at 744\", \"I'm car 29 and I'm at 134\"]}\n",
      "{'location': [\"I'm car 25 and I'm at 650\", \"I'm car 26 and I'm at 672\", \"I'm car 27 and I'm at 678\", \"I'm car 28 and I'm at 746\", \"I'm car 29 and I'm at 136\"]}\n",
      "{'location': [\"I'm car 25 and I'm at 652\", \"I'm car 26 and I'm at 674\", \"I'm car 27 and I'm at 680\", \"I'm car 28 and I'm at 748\", \"I'm car 29 and I'm at 138\"]}\n",
      "{'location': [\"I'm car 25 and I'm at 654\", \"I'm car 26 and I'm at 676\", \"I'm car 27 and I'm at 682\", \"I'm car 28 and I'm at 750\", \"I'm car 29 and I'm at 140\"]}\n",
      "{'location': [\"I'm car 25 and I'm at 656\", \"I'm car 26 and I'm at 678\", \"I'm car 27 and I'm at 684\", \"I'm car 28 and I'm at 752\", \"I'm car 29 and I'm at 142\"]}\n",
      "{'location': [\"I'm car 25 and I'm at 658\", \"I'm car 26 and I'm at 680\", \"I'm car 27 and I'm at 686\", \"I'm car 28 and I'm at 754\", \"I'm car 29 and I'm at 144\"]}\n",
      "{'location': [\"I'm car 25 and I'm at 660\", \"I'm car 26 and I'm at 680\", \"I'm car 27 and I'm at 688\", \"I'm car 28 and I'm at 756\", \"I'm car 29 and I'm at 146\"]}\n",
      "{'location': [\"I'm car 25 and I'm at 662\", \"I'm car 26 and I'm at 682\", \"I'm car 27 and I'm at 690\", \"I'm car 28 and I'm at 758\", \"I'm car 29 and I'm at 148\"]}\n",
      "{'location': [\"I'm car 25 and I'm at 664\", \"I'm car 26 and I'm at 684\", \"I'm car 27 and I'm at 692\", \"I'm car 28 and I'm at 760\", \"I'm car 29 and I'm at 150\"]}\n",
      "{'location': [\"I'm car 25 and I'm at 666\", \"I'm car 26 and I'm at 686\", \"I'm car 27 and I'm at 694\", \"I'm car 28 and I'm at 762\", \"I'm car 29 and I'm at 152\"]}\n",
      "{'location': [\"I'm car 25 and I'm at 668\", \"I'm car 26 and I'm at 688\", \"I'm car 27 and I'm at 694\", \"I'm car 28 and I'm at 762\", \"I'm car 29 and I'm at 152\"]}\n",
      "{'location': [\"I'm car 25 and I'm at 670\", \"I'm car 26 and I'm at 690\", \"I'm car 27 and I'm at 696\", \"I'm car 28 and I'm at 764\", \"I'm car 29 and I'm at 154\"]}\n",
      "{'location': [\"I'm car 25 and I'm at 672\", \"I'm car 26 and I'm at 692\", \"I'm car 27 and I'm at 698\", \"I'm car 28 and I'm at 766\", \"I'm car 29 and I'm at 156\"]}\n",
      "{'location': [\"I'm car 25 and I'm at 672\", \"I'm car 26 and I'm at 694\", \"I'm car 27 and I'm at 700\", \"I'm car 28 and I'm at 766\", \"I'm car 29 and I'm at 158\"]}\n",
      "{'location': [\"I'm car 25 and I'm at 674\", \"I'm car 26 and I'm at 696\", \"I'm car 27 and I'm at 702\", \"I'm car 28 and I'm at 768\", \"I'm car 29 and I'm at 158\"]}\n",
      "{'location': [\"I'm car 25 and I'm at 676\", \"I'm car 26 and I'm at 698\", \"I'm car 27 and I'm at 704\", \"I'm car 28 and I'm at 770\", \"I'm car 29 and I'm at 160\"]}\n",
      "{'location': [\"I'm car 25 and I'm at 678\", \"I'm car 26 and I'm at 700\", \"I'm car 27 and I'm at 706\", \"I'm car 28 and I'm at 772\", \"I'm car 29 and I'm at 162\"]}\n",
      "{'location': [\"I'm car 25 and I'm at 680\", \"I'm car 26 and I'm at 702\", \"I'm car 27 and I'm at 708\", \"I'm car 28 and I'm at 774\", \"I'm car 29 and I'm at 162\"]}\n",
      "{'location': [\"I'm car 25 and I'm at 682\", \"I'm car 26 and I'm at 704\", \"I'm car 27 and I'm at 710\", \"I'm car 28 and I'm at 776\", \"I'm car 29 and I'm at 164\"]}\n",
      "{'location': [\"I'm car 25 and I'm at 684\", \"I'm car 26 and I'm at 706\", \"I'm car 27 and I'm at 712\", \"I'm car 28 and I'm at 778\", \"I'm car 29 and I'm at 166\"]}\n",
      "{'location': [\"I'm car 25 and I'm at 686\", \"I'm car 26 and I'm at 708\", \"I'm car 27 and I'm at 714\", \"I'm car 28 and I'm at 780\", \"I'm car 29 and I'm at 168\"]}\n",
      "{'location': [\"I'm car 25 and I'm at 688\", \"I'm car 26 and I'm at 710\", \"I'm car 27 and I'm at 716\", \"I'm car 28 and I'm at 780\", \"I'm car 29 and I'm at 170\"]}\n",
      "{'location': [\"I'm car 25 and I'm at 690\", \"I'm car 26 and I'm at 712\", \"I'm car 27 and I'm at 718\", \"I'm car 28 and I'm at 782\", \"I'm car 29 and I'm at 172\"]}\n",
      "{'location': [\"I'm car 25 and I'm at 692\", \"I'm car 26 and I'm at 714\", \"I'm car 27 and I'm at 720\", \"I'm car 28 and I'm at 782\", \"I'm car 29 and I'm at 174\"]}\n",
      "{'location': [\"I'm car 25 and I'm at 694\", \"I'm car 26 and I'm at 716\", \"I'm car 27 and I'm at 722\", \"I'm car 28 and I'm at 780\", \"I'm car 29 and I'm at 176\"]}\n",
      "{'location': [\"I'm car 25 and I'm at 694\", \"I'm car 26 and I'm at 718\", \"I'm car 27 and I'm at 724\", \"I'm car 28 and I'm at 780\", \"I'm car 29 and I'm at 178\"]}\n",
      "{'location': [\"I'm car 25 and I'm at 696\", \"I'm car 26 and I'm at 720\", \"I'm car 27 and I'm at 726\", \"I'm car 28 and I'm at 782\", \"I'm car 29 and I'm at 180\"]}\n",
      "{'location': [\"I'm car 25 and I'm at 698\", \"I'm car 26 and I'm at 722\", \"I'm car 27 and I'm at 728\", \"I'm car 28 and I'm at 784\", \"I'm car 29 and I'm at 180\"]}\n",
      "{'location': [\"I'm car 25 and I'm at 700\", \"I'm car 26 and I'm at 722\", \"I'm car 27 and I'm at 730\", \"I'm car 28 and I'm at 786\", \"I'm car 29 and I'm at 178\"]}\n",
      "{'location': [\"I'm car 25 and I'm at 702\", \"I'm car 26 and I'm at 724\", \"I'm car 27 and I'm at 732\", \"I'm car 28 and I'm at 786\", \"I'm car 29 and I'm at 174\"]}\n",
      "{'location': [\"I'm car 25 and I'm at 704\", \"I'm car 26 and I'm at 726\", \"I'm car 27 and I'm at 734\", \"I'm car 28 and I'm at 788\", \"I'm car 29 and I'm at 168\"]}\n"
     ]
    }
   ],
   "source": [
    "sim = Sim()\n",
    "trial_data = sim.run()\n"
   ]
  },
  {
   "cell_type": "code",
   "execution_count": 273,
   "metadata": {
    "collapsed": false
   },
   "outputs": [
    {
     "data": {
      "text/plain": [
       "<matplotlib.image.AxesImage at 0x1241e22e8>"
      ]
     },
     "execution_count": 273,
     "metadata": {},
     "output_type": "execute_result"
    },
    {
     "data": {
      "image/png": "[encoded data removed]",
      "text/plain": [
       "<matplotlib.figure.Figure at 0x11fedc6a0>"
      ]
     },
     "metadata": {},
     "output_type": "display_data"
    }
   ],
   "source": [
    "img_data = trial_data.astype('float32')\n",
    "#print(img_data)\n",
    "\n",
    "plt.figure(figsize=(20, 20)) # size is in \"inches\"\n",
    "plt.imshow(img_data, cmap='spectral', interpolation='nearest')"
   ]
  },
  {
   "cell_type": "code",
   "execution_count": null,
   "metadata": {
    "collapsed": true
   },
   "outputs": [],
   "source": []
  },
  {
   "cell_type": "code",
   "execution_count": null,
   "metadata": {
    "collapsed": true
   },
   "outputs": [],
   "source": []
  }
 ],
 "metadata": {
  "kernelspec": {
   "display_name": "Python 3",
   "language": "python",
   "name": "python3"
  },
  "language_info": {
   "codemirror_mode": {
    "name": "ipython",
    "version": 3
   },
   "file_extension": ".py",
   "mimetype": "text/x-python",
   "name": "python",
   "nbconvert_exporter": "python",
   "pygments_lexer": "ipython3",
   "version": "3.4.3"
  }
 },
 "nbformat": 4,
 "nbformat_minor": 0
}
