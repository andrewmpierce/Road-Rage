{
 "cells": [
  {
   "cell_type": "code",
   "execution_count": 5,
   "metadata": {
    "collapsed": false
   },
   "outputs": [],
   "source": [
    "import math\n",
    "import random\n",
    "import statistics as st\n",
    "import matplotlib.pyplot as plt\n",
    "import numpy as np\n",
    "from traffic_lib import *"
   ]
  },
  {
   "cell_type": "code",
   "execution_count": 6,
   "metadata": {
    "collapsed": true
   },
   "outputs": [],
   "source": [
    "%matplotlib inline\n"
   ]
  },
  {
   "cell_type": "code",
   "execution_count": 7,
   "metadata": {
    "collapsed": false
   },
   "outputs": [
    {
     "name": "stdout",
     "output_type": "stream",
     "text": [
      "20.0\n",
      "21.333333333333332\n",
      "23.066666666666666\n",
      "24.466666666666665\n",
      "25.333333333333332\n",
      "25.8\n",
      "26.533333333333335\n",
      "27.466666666666665\n",
      "28.133333333333333\n",
      "27.666666666666668\n",
      "26.8\n",
      "26.133333333333333\n",
      "25.4\n",
      "24.133333333333333\n",
      "23.933333333333334\n",
      "23.066666666666666\n",
      "21.866666666666667\n",
      "21.2\n",
      "20.466666666666665\n",
      "19.933333333333334\n",
      "19.466666666666665\n",
      "19.4\n",
      "18.6\n",
      "18.2\n",
      "17.8\n",
      "18.466666666666665\n",
      "17.133333333333333\n",
      "16.333333333333332\n",
      "15.466666666666667\n",
      "14.666666666666666\n",
      "14.733333333333333\n",
      "11.933333333333334\n",
      "11.8\n",
      "10.6\n",
      "10.4\n",
      "9.066666666666666\n",
      "8.666666666666666\n",
      "9.933333333333334\n",
      "10.266666666666667\n",
      "11.2\n",
      "11.8\n",
      "12.333333333333334\n",
      "11.933333333333334\n",
      "11.6\n",
      "12.133333333333333\n",
      "13.4\n",
      "14.333333333333334\n",
      "13.866666666666667\n",
      "12.8\n",
      "13.2\n",
      "12.733333333333333\n",
      "13.4\n",
      "12.866666666666667\n",
      "11.6\n",
      "11.333333333333334\n",
      "12.866666666666667\n",
      "14.0\n",
      "14.066666666666666\n",
      "14.0\n",
      "14.933333333333334\n"
     ]
    }
   ],
   "source": [
    "sim = Sim()\n",
    "trial_data = sim.run()"
   ]
  },
  {
   "cell_type": "code",
   "execution_count": 8,
   "metadata": {
    "collapsed": false
   },
   "outputs": [],
   "source": [
    "# img_data = trial_data.astype('float32')\n",
    "# print(img_data)\n",
    "\n",
    "# plt.figure(figsize=(20, 20)) # size is in \"inches\"\n",
    "# plt.imshow(img_data, cmap='bone', interpolation='nearest')"
   ]
  },
  {
   "cell_type": "code",
   "execution_count": null,
   "metadata": {
    "collapsed": true
   },
   "outputs": [],
   "source": []
  },
  {
   "cell_type": "code",
   "execution_count": null,
   "metadata": {
    "collapsed": true
   },
   "outputs": [],
   "source": []
  },
  {
   "cell_type": "code",
   "execution_count": null,
   "metadata": {
    "collapsed": true
   },
   "outputs": [],
   "source": []
  }
 ],
 "metadata": {
  "kernelspec": {
   "display_name": "Python 3",
   "language": "python",
   "name": "python3"
  },
  "language_info": {
   "codemirror_mode": {
    "name": "ipython",
    "version": 3
   },
   "file_extension": ".py",
   "mimetype": "text/x-python",
   "name": "python",
   "nbconvert_exporter": "python",
   "pygments_lexer": "ipython3",
   "version": "3.4.3"
  }
 },
 "nbformat": 4,
 "nbformat_minor": 0
}
