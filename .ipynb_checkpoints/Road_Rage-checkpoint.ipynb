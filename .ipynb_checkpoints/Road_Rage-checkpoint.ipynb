{
 "cells": [
  {
   "cell_type": "code",
   "execution_count": 1,
   "metadata": {
    "collapsed": false
   },
   "outputs": [],
   "source": [
    "import math\n",
    "import random\n",
    "import statistics as st\n",
    "import matplotlib.pyplot as plt\n",
    "import numpy as np"
   ]
  },
  {
   "cell_type": "code",
   "execution_count": 2,
   "metadata": {
    "collapsed": true
   },
   "outputs": [],
   "source": [
    "%matplotlib inline\n"
   ]
  },
  {
   "cell_type": "code",
   "execution_count": 3,
   "metadata": {
    "collapsed": false
   },
   "outputs": [],
   "source": [
    "#All speed units will be in meters/sec\n",
    "\n",
    "class Car:\n",
    "    def __init__(self, size = 5, max_speed = 33, location = 0):\n",
    "        self.size = size\n",
    "        self.max_speed = max_speed\n",
    "        self.location = location\n",
    "        \n",
    "    def move(self):\n",
    "        self.location += self.max_speed \n",
    "        if self.location > 1000:\n",
    "            self.location = self.location % 1000\n",
    "        return self.location\n",
    "    \n",
    "    def check_loc(self):\n",
    "        return(\"I'm at {}\".format(self.location))\n",
    "    \n",
    "    \n"
   ]
  },
  {
   "cell_type": "code",
   "execution_count": 7,
   "metadata": {
    "collapsed": false
   },
   "outputs": [],
   "source": [
    "class Road:\n",
    "    def __init__(self):\n",
    "        self.cars = [Car() for _ in range(30)]\n",
    "        self.road_map = np.array([0 for _ in range(1050)])\n",
    "    \n",
    "    def place_cars_init(self):\n",
    "        placement = 0\n",
    "        for car in self.cars:\n",
    "            car.location = placement\n",
    "            placement += 30\n",
    "    \n",
    "    def update_road_map(self):\n",
    "        self.road_map = np.array([0 for _ in range(1050)])\n",
    "        for car in self.cars:\n",
    "            for x in range(5):\n",
    "                self.road_map[car.location+x] = 1\n",
    "    \n",
    "    def drive(self):\n",
    "        return [car.move() for car in self.cars]\n",
    "    \n",
    "    def check_cars(self):\n",
    "        return [car.check_loc() for car in self.cars]\n",
    "    \n",
    "    def reset(self):\n",
    "        self.road_map = [0 for _ in range(1000)]\n",
    "        self.place_cars_init()\n",
    "        self.update_road_map()\n",
    "\n",
    "        "
   ]
  },
  {
   "cell_type": "code",
   "execution_count": null,
   "metadata": {
    "collapsed": false
   },
   "outputs": [],
   "source": []
  },
  {
   "cell_type": "code",
   "execution_count": 10,
   "metadata": {
    "collapsed": false
   },
   "outputs": [],
   "source": [
    "class Sim:\n",
    "    def __init__(self):\n",
    "        self.ticks = 0\n",
    "        self.road = Road()        \n",
    "    \n",
    "    def tick(self):\n",
    "        stats = {\"tick\": self.ticks, \"cars\": self.road.check_cars()}\n",
    "        self.road.drive()\n",
    "        self.road.update_road_map()\n",
    "        print(stats)\n",
    "\n",
    "        \n",
    "    def reset(self):\n",
    "        return self.ticks == 0\n",
    "     \n",
    "    def run(self, num_ticks = 60):\n",
    "        self.road.place_cars_init()\n",
    "        for tick in range(num_ticks):\n",
    "            self.tick()\n",
    "            self.ticks += 1\n",
    "        "
   ]
  },
  {
   "cell_type": "code",
   "execution_count": 11,
   "metadata": {
    "collapsed": false
   },
   "outputs": [
    {
     "name": "stdout",
     "output_type": "stream",
     "text": [
      "{'map': array([0, 0, 0, ..., 0, 0, 0]), 'cars': [\"I'm at 0\", \"I'm at 30\", \"I'm at 60\", \"I'm at 90\", \"I'm at 120\", \"I'm at 150\", \"I'm at 180\", \"I'm at 210\", \"I'm at 240\", \"I'm at 270\", \"I'm at 300\", \"I'm at 330\", \"I'm at 360\", \"I'm at 390\", \"I'm at 420\", \"I'm at 450\", \"I'm at 480\", \"I'm at 510\", \"I'm at 540\", \"I'm at 570\", \"I'm at 600\", \"I'm at 630\", \"I'm at 660\", \"I'm at 690\", \"I'm at 720\", \"I'm at 750\", \"I'm at 780\", \"I'm at 810\", \"I'm at 840\", \"I'm at 870\"], 'tick': 0}\n",
      "{'map': array([0, 0, 0, ..., 0, 0, 0]), 'cars': [\"I'm at 33\", \"I'm at 63\", \"I'm at 93\", \"I'm at 123\", \"I'm at 153\", \"I'm at 183\", \"I'm at 213\", \"I'm at 243\", \"I'm at 273\", \"I'm at 303\", \"I'm at 333\", \"I'm at 363\", \"I'm at 393\", \"I'm at 423\", \"I'm at 453\", \"I'm at 483\", \"I'm at 513\", \"I'm at 543\", \"I'm at 573\", \"I'm at 603\", \"I'm at 633\", \"I'm at 663\", \"I'm at 693\", \"I'm at 723\", \"I'm at 753\", \"I'm at 783\", \"I'm at 813\", \"I'm at 843\", \"I'm at 873\", \"I'm at 903\"], 'tick': 1}\n",
      "{'map': array([0, 0, 0, ..., 0, 0, 0]), 'cars': [\"I'm at 66\", \"I'm at 96\", \"I'm at 126\", \"I'm at 156\", \"I'm at 186\", \"I'm at 216\", \"I'm at 246\", \"I'm at 276\", \"I'm at 306\", \"I'm at 336\", \"I'm at 366\", \"I'm at 396\", \"I'm at 426\", \"I'm at 456\", \"I'm at 486\", \"I'm at 516\", \"I'm at 546\", \"I'm at 576\", \"I'm at 606\", \"I'm at 636\", \"I'm at 666\", \"I'm at 696\", \"I'm at 726\", \"I'm at 756\", \"I'm at 786\", \"I'm at 816\", \"I'm at 846\", \"I'm at 876\", \"I'm at 906\", \"I'm at 936\"], 'tick': 2}\n",
      "{'map': array([0, 0, 0, ..., 0, 0, 0]), 'cars': [\"I'm at 99\", \"I'm at 129\", \"I'm at 159\", \"I'm at 189\", \"I'm at 219\", \"I'm at 249\", \"I'm at 279\", \"I'm at 309\", \"I'm at 339\", \"I'm at 369\", \"I'm at 399\", \"I'm at 429\", \"I'm at 459\", \"I'm at 489\", \"I'm at 519\", \"I'm at 549\", \"I'm at 579\", \"I'm at 609\", \"I'm at 639\", \"I'm at 669\", \"I'm at 699\", \"I'm at 729\", \"I'm at 759\", \"I'm at 789\", \"I'm at 819\", \"I'm at 849\", \"I'm at 879\", \"I'm at 909\", \"I'm at 939\", \"I'm at 969\"], 'tick': 3}\n",
      "{'map': array([0, 0, 1, ..., 0, 0, 0]), 'cars': [\"I'm at 132\", \"I'm at 162\", \"I'm at 192\", \"I'm at 222\", \"I'm at 252\", \"I'm at 282\", \"I'm at 312\", \"I'm at 342\", \"I'm at 372\", \"I'm at 402\", \"I'm at 432\", \"I'm at 462\", \"I'm at 492\", \"I'm at 522\", \"I'm at 552\", \"I'm at 582\", \"I'm at 612\", \"I'm at 642\", \"I'm at 672\", \"I'm at 702\", \"I'm at 732\", \"I'm at 762\", \"I'm at 792\", \"I'm at 822\", \"I'm at 852\", \"I'm at 882\", \"I'm at 912\", \"I'm at 942\", \"I'm at 972\", \"I'm at 2\"], 'tick': 4}\n",
      "{'map': array([0, 0, 0, ..., 0, 0, 0]), 'cars': [\"I'm at 165\", \"I'm at 195\", \"I'm at 225\", \"I'm at 255\", \"I'm at 285\", \"I'm at 315\", \"I'm at 345\", \"I'm at 375\", \"I'm at 405\", \"I'm at 435\", \"I'm at 465\", \"I'm at 495\", \"I'm at 525\", \"I'm at 555\", \"I'm at 585\", \"I'm at 615\", \"I'm at 645\", \"I'm at 675\", \"I'm at 705\", \"I'm at 735\", \"I'm at 765\", \"I'm at 795\", \"I'm at 825\", \"I'm at 855\", \"I'm at 885\", \"I'm at 915\", \"I'm at 945\", \"I'm at 975\", \"I'm at 5\", \"I'm at 35\"], 'tick': 5}\n",
      "{'map': array([0, 0, 0, ..., 0, 0, 0]), 'cars': [\"I'm at 198\", \"I'm at 228\", \"I'm at 258\", \"I'm at 288\", \"I'm at 318\", \"I'm at 348\", \"I'm at 378\", \"I'm at 408\", \"I'm at 438\", \"I'm at 468\", \"I'm at 498\", \"I'm at 528\", \"I'm at 558\", \"I'm at 588\", \"I'm at 618\", \"I'm at 648\", \"I'm at 678\", \"I'm at 708\", \"I'm at 738\", \"I'm at 768\", \"I'm at 798\", \"I'm at 828\", \"I'm at 858\", \"I'm at 888\", \"I'm at 918\", \"I'm at 948\", \"I'm at 978\", \"I'm at 8\", \"I'm at 38\", \"I'm at 68\"], 'tick': 6}\n",
      "{'map': array([0, 0, 0, ..., 0, 0, 0]), 'cars': [\"I'm at 231\", \"I'm at 261\", \"I'm at 291\", \"I'm at 321\", \"I'm at 351\", \"I'm at 381\", \"I'm at 411\", \"I'm at 441\", \"I'm at 471\", \"I'm at 501\", \"I'm at 531\", \"I'm at 561\", \"I'm at 591\", \"I'm at 621\", \"I'm at 651\", \"I'm at 681\", \"I'm at 711\", \"I'm at 741\", \"I'm at 771\", \"I'm at 801\", \"I'm at 831\", \"I'm at 861\", \"I'm at 891\", \"I'm at 921\", \"I'm at 951\", \"I'm at 981\", \"I'm at 11\", \"I'm at 41\", \"I'm at 71\", \"I'm at 101\"], 'tick': 7}\n",
      "{'map': array([0, 0, 0, ..., 0, 0, 0]), 'cars': [\"I'm at 264\", \"I'm at 294\", \"I'm at 324\", \"I'm at 354\", \"I'm at 384\", \"I'm at 414\", \"I'm at 444\", \"I'm at 474\", \"I'm at 504\", \"I'm at 534\", \"I'm at 564\", \"I'm at 594\", \"I'm at 624\", \"I'm at 654\", \"I'm at 684\", \"I'm at 714\", \"I'm at 744\", \"I'm at 774\", \"I'm at 804\", \"I'm at 834\", \"I'm at 864\", \"I'm at 894\", \"I'm at 924\", \"I'm at 954\", \"I'm at 984\", \"I'm at 14\", \"I'm at 44\", \"I'm at 74\", \"I'm at 104\", \"I'm at 134\"], 'tick': 8}\n",
      "{'map': array([0, 0, 0, ..., 0, 0, 0]), 'cars': [\"I'm at 297\", \"I'm at 327\", \"I'm at 357\", \"I'm at 387\", \"I'm at 417\", \"I'm at 447\", \"I'm at 477\", \"I'm at 507\", \"I'm at 537\", \"I'm at 567\", \"I'm at 597\", \"I'm at 627\", \"I'm at 657\", \"I'm at 687\", \"I'm at 717\", \"I'm at 747\", \"I'm at 777\", \"I'm at 807\", \"I'm at 837\", \"I'm at 867\", \"I'm at 897\", \"I'm at 927\", \"I'm at 957\", \"I'm at 987\", \"I'm at 17\", \"I'm at 47\", \"I'm at 77\", \"I'm at 107\", \"I'm at 137\", \"I'm at 167\"], 'tick': 9}\n",
      "{'map': array([0, 0, 0, ..., 0, 0, 0]), 'cars': [\"I'm at 330\", \"I'm at 360\", \"I'm at 390\", \"I'm at 420\", \"I'm at 450\", \"I'm at 480\", \"I'm at 510\", \"I'm at 540\", \"I'm at 570\", \"I'm at 600\", \"I'm at 630\", \"I'm at 660\", \"I'm at 690\", \"I'm at 720\", \"I'm at 750\", \"I'm at 780\", \"I'm at 810\", \"I'm at 840\", \"I'm at 870\", \"I'm at 900\", \"I'm at 930\", \"I'm at 960\", \"I'm at 990\", \"I'm at 20\", \"I'm at 50\", \"I'm at 80\", \"I'm at 110\", \"I'm at 140\", \"I'm at 170\", \"I'm at 200\"], 'tick': 10}\n",
      "{'map': array([0, 0, 0, ..., 0, 0, 0]), 'cars': [\"I'm at 363\", \"I'm at 393\", \"I'm at 423\", \"I'm at 453\", \"I'm at 483\", \"I'm at 513\", \"I'm at 543\", \"I'm at 573\", \"I'm at 603\", \"I'm at 633\", \"I'm at 663\", \"I'm at 693\", \"I'm at 723\", \"I'm at 753\", \"I'm at 783\", \"I'm at 813\", \"I'm at 843\", \"I'm at 873\", \"I'm at 903\", \"I'm at 933\", \"I'm at 963\", \"I'm at 993\", \"I'm at 23\", \"I'm at 53\", \"I'm at 83\", \"I'm at 113\", \"I'm at 143\", \"I'm at 173\", \"I'm at 203\", \"I'm at 233\"], 'tick': 11}\n",
      "{'map': array([0, 0, 0, ..., 0, 0, 0]), 'cars': [\"I'm at 396\", \"I'm at 426\", \"I'm at 456\", \"I'm at 486\", \"I'm at 516\", \"I'm at 546\", \"I'm at 576\", \"I'm at 606\", \"I'm at 636\", \"I'm at 666\", \"I'm at 696\", \"I'm at 726\", \"I'm at 756\", \"I'm at 786\", \"I'm at 816\", \"I'm at 846\", \"I'm at 876\", \"I'm at 906\", \"I'm at 936\", \"I'm at 966\", \"I'm at 996\", \"I'm at 26\", \"I'm at 56\", \"I'm at 86\", \"I'm at 116\", \"I'm at 146\", \"I'm at 176\", \"I'm at 206\", \"I'm at 236\", \"I'm at 266\"], 'tick': 12}\n",
      "{'map': array([0, 0, 0, ..., 0, 0, 0]), 'cars': [\"I'm at 429\", \"I'm at 459\", \"I'm at 489\", \"I'm at 519\", \"I'm at 549\", \"I'm at 579\", \"I'm at 609\", \"I'm at 639\", \"I'm at 669\", \"I'm at 699\", \"I'm at 729\", \"I'm at 759\", \"I'm at 789\", \"I'm at 819\", \"I'm at 849\", \"I'm at 879\", \"I'm at 909\", \"I'm at 939\", \"I'm at 969\", \"I'm at 999\", \"I'm at 29\", \"I'm at 59\", \"I'm at 89\", \"I'm at 119\", \"I'm at 149\", \"I'm at 179\", \"I'm at 209\", \"I'm at 239\", \"I'm at 269\", \"I'm at 299\"], 'tick': 13}\n",
      "{'map': array([0, 0, 1, ..., 0, 0, 0]), 'cars': [\"I'm at 462\", \"I'm at 492\", \"I'm at 522\", \"I'm at 552\", \"I'm at 582\", \"I'm at 612\", \"I'm at 642\", \"I'm at 672\", \"I'm at 702\", \"I'm at 732\", \"I'm at 762\", \"I'm at 792\", \"I'm at 822\", \"I'm at 852\", \"I'm at 882\", \"I'm at 912\", \"I'm at 942\", \"I'm at 972\", \"I'm at 2\", \"I'm at 32\", \"I'm at 62\", \"I'm at 92\", \"I'm at 122\", \"I'm at 152\", \"I'm at 182\", \"I'm at 212\", \"I'm at 242\", \"I'm at 272\", \"I'm at 302\", \"I'm at 332\"], 'tick': 14}\n",
      "{'map': array([0, 0, 0, ..., 0, 0, 0]), 'cars': [\"I'm at 495\", \"I'm at 525\", \"I'm at 555\", \"I'm at 585\", \"I'm at 615\", \"I'm at 645\", \"I'm at 675\", \"I'm at 705\", \"I'm at 735\", \"I'm at 765\", \"I'm at 795\", \"I'm at 825\", \"I'm at 855\", \"I'm at 885\", \"I'm at 915\", \"I'm at 945\", \"I'm at 975\", \"I'm at 5\", \"I'm at 35\", \"I'm at 65\", \"I'm at 95\", \"I'm at 125\", \"I'm at 155\", \"I'm at 185\", \"I'm at 215\", \"I'm at 245\", \"I'm at 275\", \"I'm at 305\", \"I'm at 335\", \"I'm at 365\"], 'tick': 15}\n",
      "{'map': array([0, 0, 0, ..., 0, 0, 0]), 'cars': [\"I'm at 528\", \"I'm at 558\", \"I'm at 588\", \"I'm at 618\", \"I'm at 648\", \"I'm at 678\", \"I'm at 708\", \"I'm at 738\", \"I'm at 768\", \"I'm at 798\", \"I'm at 828\", \"I'm at 858\", \"I'm at 888\", \"I'm at 918\", \"I'm at 948\", \"I'm at 978\", \"I'm at 8\", \"I'm at 38\", \"I'm at 68\", \"I'm at 98\", \"I'm at 128\", \"I'm at 158\", \"I'm at 188\", \"I'm at 218\", \"I'm at 248\", \"I'm at 278\", \"I'm at 308\", \"I'm at 338\", \"I'm at 368\", \"I'm at 398\"], 'tick': 16}\n",
      "{'map': array([0, 0, 0, ..., 0, 0, 0]), 'cars': [\"I'm at 561\", \"I'm at 591\", \"I'm at 621\", \"I'm at 651\", \"I'm at 681\", \"I'm at 711\", \"I'm at 741\", \"I'm at 771\", \"I'm at 801\", \"I'm at 831\", \"I'm at 861\", \"I'm at 891\", \"I'm at 921\", \"I'm at 951\", \"I'm at 981\", \"I'm at 11\", \"I'm at 41\", \"I'm at 71\", \"I'm at 101\", \"I'm at 131\", \"I'm at 161\", \"I'm at 191\", \"I'm at 221\", \"I'm at 251\", \"I'm at 281\", \"I'm at 311\", \"I'm at 341\", \"I'm at 371\", \"I'm at 401\", \"I'm at 431\"], 'tick': 17}\n",
      "{'map': array([0, 0, 0, ..., 0, 0, 0]), 'cars': [\"I'm at 594\", \"I'm at 624\", \"I'm at 654\", \"I'm at 684\", \"I'm at 714\", \"I'm at 744\", \"I'm at 774\", \"I'm at 804\", \"I'm at 834\", \"I'm at 864\", \"I'm at 894\", \"I'm at 924\", \"I'm at 954\", \"I'm at 984\", \"I'm at 14\", \"I'm at 44\", \"I'm at 74\", \"I'm at 104\", \"I'm at 134\", \"I'm at 164\", \"I'm at 194\", \"I'm at 224\", \"I'm at 254\", \"I'm at 284\", \"I'm at 314\", \"I'm at 344\", \"I'm at 374\", \"I'm at 404\", \"I'm at 434\", \"I'm at 464\"], 'tick': 18}\n",
      "{'map': array([0, 0, 0, ..., 0, 0, 0]), 'cars': [\"I'm at 627\", \"I'm at 657\", \"I'm at 687\", \"I'm at 717\", \"I'm at 747\", \"I'm at 777\", \"I'm at 807\", \"I'm at 837\", \"I'm at 867\", \"I'm at 897\", \"I'm at 927\", \"I'm at 957\", \"I'm at 987\", \"I'm at 17\", \"I'm at 47\", \"I'm at 77\", \"I'm at 107\", \"I'm at 137\", \"I'm at 167\", \"I'm at 197\", \"I'm at 227\", \"I'm at 257\", \"I'm at 287\", \"I'm at 317\", \"I'm at 347\", \"I'm at 377\", \"I'm at 407\", \"I'm at 437\", \"I'm at 467\", \"I'm at 497\"], 'tick': 19}\n",
      "{'map': array([0, 0, 0, ..., 0, 0, 0]), 'cars': [\"I'm at 660\", \"I'm at 690\", \"I'm at 720\", \"I'm at 750\", \"I'm at 780\", \"I'm at 810\", \"I'm at 840\", \"I'm at 870\", \"I'm at 900\", \"I'm at 930\", \"I'm at 960\", \"I'm at 990\", \"I'm at 20\", \"I'm at 50\", \"I'm at 80\", \"I'm at 110\", \"I'm at 140\", \"I'm at 170\", \"I'm at 200\", \"I'm at 230\", \"I'm at 260\", \"I'm at 290\", \"I'm at 320\", \"I'm at 350\", \"I'm at 380\", \"I'm at 410\", \"I'm at 440\", \"I'm at 470\", \"I'm at 500\", \"I'm at 530\"], 'tick': 20}\n",
      "{'map': array([0, 0, 0, ..., 0, 0, 0]), 'cars': [\"I'm at 693\", \"I'm at 723\", \"I'm at 753\", \"I'm at 783\", \"I'm at 813\", \"I'm at 843\", \"I'm at 873\", \"I'm at 903\", \"I'm at 933\", \"I'm at 963\", \"I'm at 993\", \"I'm at 23\", \"I'm at 53\", \"I'm at 83\", \"I'm at 113\", \"I'm at 143\", \"I'm at 173\", \"I'm at 203\", \"I'm at 233\", \"I'm at 263\", \"I'm at 293\", \"I'm at 323\", \"I'm at 353\", \"I'm at 383\", \"I'm at 413\", \"I'm at 443\", \"I'm at 473\", \"I'm at 503\", \"I'm at 533\", \"I'm at 563\"], 'tick': 21}\n",
      "{'map': array([0, 0, 0, ..., 0, 0, 0]), 'cars': [\"I'm at 726\", \"I'm at 756\", \"I'm at 786\", \"I'm at 816\", \"I'm at 846\", \"I'm at 876\", \"I'm at 906\", \"I'm at 936\", \"I'm at 966\", \"I'm at 996\", \"I'm at 26\", \"I'm at 56\", \"I'm at 86\", \"I'm at 116\", \"I'm at 146\", \"I'm at 176\", \"I'm at 206\", \"I'm at 236\", \"I'm at 266\", \"I'm at 296\", \"I'm at 326\", \"I'm at 356\", \"I'm at 386\", \"I'm at 416\", \"I'm at 446\", \"I'm at 476\", \"I'm at 506\", \"I'm at 536\", \"I'm at 566\", \"I'm at 596\"], 'tick': 22}\n",
      "{'map': array([0, 0, 0, ..., 0, 0, 0]), 'cars': [\"I'm at 759\", \"I'm at 789\", \"I'm at 819\", \"I'm at 849\", \"I'm at 879\", \"I'm at 909\", \"I'm at 939\", \"I'm at 969\", \"I'm at 999\", \"I'm at 29\", \"I'm at 59\", \"I'm at 89\", \"I'm at 119\", \"I'm at 149\", \"I'm at 179\", \"I'm at 209\", \"I'm at 239\", \"I'm at 269\", \"I'm at 299\", \"I'm at 329\", \"I'm at 359\", \"I'm at 389\", \"I'm at 419\", \"I'm at 449\", \"I'm at 479\", \"I'm at 509\", \"I'm at 539\", \"I'm at 569\", \"I'm at 599\", \"I'm at 629\"], 'tick': 23}\n",
      "{'map': array([0, 0, 1, ..., 0, 0, 0]), 'cars': [\"I'm at 792\", \"I'm at 822\", \"I'm at 852\", \"I'm at 882\", \"I'm at 912\", \"I'm at 942\", \"I'm at 972\", \"I'm at 2\", \"I'm at 32\", \"I'm at 62\", \"I'm at 92\", \"I'm at 122\", \"I'm at 152\", \"I'm at 182\", \"I'm at 212\", \"I'm at 242\", \"I'm at 272\", \"I'm at 302\", \"I'm at 332\", \"I'm at 362\", \"I'm at 392\", \"I'm at 422\", \"I'm at 452\", \"I'm at 482\", \"I'm at 512\", \"I'm at 542\", \"I'm at 572\", \"I'm at 602\", \"I'm at 632\", \"I'm at 662\"], 'tick': 24}\n",
      "{'map': array([0, 0, 0, ..., 0, 0, 0]), 'cars': [\"I'm at 825\", \"I'm at 855\", \"I'm at 885\", \"I'm at 915\", \"I'm at 945\", \"I'm at 975\", \"I'm at 5\", \"I'm at 35\", \"I'm at 65\", \"I'm at 95\", \"I'm at 125\", \"I'm at 155\", \"I'm at 185\", \"I'm at 215\", \"I'm at 245\", \"I'm at 275\", \"I'm at 305\", \"I'm at 335\", \"I'm at 365\", \"I'm at 395\", \"I'm at 425\", \"I'm at 455\", \"I'm at 485\", \"I'm at 515\", \"I'm at 545\", \"I'm at 575\", \"I'm at 605\", \"I'm at 635\", \"I'm at 665\", \"I'm at 695\"], 'tick': 25}\n",
      "{'map': array([0, 0, 0, ..., 0, 0, 0]), 'cars': [\"I'm at 858\", \"I'm at 888\", \"I'm at 918\", \"I'm at 948\", \"I'm at 978\", \"I'm at 8\", \"I'm at 38\", \"I'm at 68\", \"I'm at 98\", \"I'm at 128\", \"I'm at 158\", \"I'm at 188\", \"I'm at 218\", \"I'm at 248\", \"I'm at 278\", \"I'm at 308\", \"I'm at 338\", \"I'm at 368\", \"I'm at 398\", \"I'm at 428\", \"I'm at 458\", \"I'm at 488\", \"I'm at 518\", \"I'm at 548\", \"I'm at 578\", \"I'm at 608\", \"I'm at 638\", \"I'm at 668\", \"I'm at 698\", \"I'm at 728\"], 'tick': 26}\n",
      "{'map': array([0, 0, 0, ..., 0, 0, 0]), 'cars': [\"I'm at 891\", \"I'm at 921\", \"I'm at 951\", \"I'm at 981\", \"I'm at 11\", \"I'm at 41\", \"I'm at 71\", \"I'm at 101\", \"I'm at 131\", \"I'm at 161\", \"I'm at 191\", \"I'm at 221\", \"I'm at 251\", \"I'm at 281\", \"I'm at 311\", \"I'm at 341\", \"I'm at 371\", \"I'm at 401\", \"I'm at 431\", \"I'm at 461\", \"I'm at 491\", \"I'm at 521\", \"I'm at 551\", \"I'm at 581\", \"I'm at 611\", \"I'm at 641\", \"I'm at 671\", \"I'm at 701\", \"I'm at 731\", \"I'm at 761\"], 'tick': 27}\n",
      "{'map': array([0, 0, 0, ..., 0, 0, 0]), 'cars': [\"I'm at 924\", \"I'm at 954\", \"I'm at 984\", \"I'm at 14\", \"I'm at 44\", \"I'm at 74\", \"I'm at 104\", \"I'm at 134\", \"I'm at 164\", \"I'm at 194\", \"I'm at 224\", \"I'm at 254\", \"I'm at 284\", \"I'm at 314\", \"I'm at 344\", \"I'm at 374\", \"I'm at 404\", \"I'm at 434\", \"I'm at 464\", \"I'm at 494\", \"I'm at 524\", \"I'm at 554\", \"I'm at 584\", \"I'm at 614\", \"I'm at 644\", \"I'm at 674\", \"I'm at 704\", \"I'm at 734\", \"I'm at 764\", \"I'm at 794\"], 'tick': 28}\n",
      "{'map': array([0, 0, 0, ..., 0, 0, 0]), 'cars': [\"I'm at 957\", \"I'm at 987\", \"I'm at 17\", \"I'm at 47\", \"I'm at 77\", \"I'm at 107\", \"I'm at 137\", \"I'm at 167\", \"I'm at 197\", \"I'm at 227\", \"I'm at 257\", \"I'm at 287\", \"I'm at 317\", \"I'm at 347\", \"I'm at 377\", \"I'm at 407\", \"I'm at 437\", \"I'm at 467\", \"I'm at 497\", \"I'm at 527\", \"I'm at 557\", \"I'm at 587\", \"I'm at 617\", \"I'm at 647\", \"I'm at 677\", \"I'm at 707\", \"I'm at 737\", \"I'm at 767\", \"I'm at 797\", \"I'm at 827\"], 'tick': 29}\n",
      "{'map': array([0, 0, 0, ..., 0, 0, 0]), 'cars': [\"I'm at 990\", \"I'm at 20\", \"I'm at 50\", \"I'm at 80\", \"I'm at 110\", \"I'm at 140\", \"I'm at 170\", \"I'm at 200\", \"I'm at 230\", \"I'm at 260\", \"I'm at 290\", \"I'm at 320\", \"I'm at 350\", \"I'm at 380\", \"I'm at 410\", \"I'm at 440\", \"I'm at 470\", \"I'm at 500\", \"I'm at 530\", \"I'm at 560\", \"I'm at 590\", \"I'm at 620\", \"I'm at 650\", \"I'm at 680\", \"I'm at 710\", \"I'm at 740\", \"I'm at 770\", \"I'm at 800\", \"I'm at 830\", \"I'm at 860\"], 'tick': 30}\n",
      "{'map': array([0, 0, 0, ..., 0, 0, 0]), 'cars': [\"I'm at 23\", \"I'm at 53\", \"I'm at 83\", \"I'm at 113\", \"I'm at 143\", \"I'm at 173\", \"I'm at 203\", \"I'm at 233\", \"I'm at 263\", \"I'm at 293\", \"I'm at 323\", \"I'm at 353\", \"I'm at 383\", \"I'm at 413\", \"I'm at 443\", \"I'm at 473\", \"I'm at 503\", \"I'm at 533\", \"I'm at 563\", \"I'm at 593\", \"I'm at 623\", \"I'm at 653\", \"I'm at 683\", \"I'm at 713\", \"I'm at 743\", \"I'm at 773\", \"I'm at 803\", \"I'm at 833\", \"I'm at 863\", \"I'm at 893\"], 'tick': 31}\n",
      "{'map': array([0, 0, 0, ..., 0, 0, 0]), 'cars': [\"I'm at 56\", \"I'm at 86\", \"I'm at 116\", \"I'm at 146\", \"I'm at 176\", \"I'm at 206\", \"I'm at 236\", \"I'm at 266\", \"I'm at 296\", \"I'm at 326\", \"I'm at 356\", \"I'm at 386\", \"I'm at 416\", \"I'm at 446\", \"I'm at 476\", \"I'm at 506\", \"I'm at 536\", \"I'm at 566\", \"I'm at 596\", \"I'm at 626\", \"I'm at 656\", \"I'm at 686\", \"I'm at 716\", \"I'm at 746\", \"I'm at 776\", \"I'm at 806\", \"I'm at 836\", \"I'm at 866\", \"I'm at 896\", \"I'm at 926\"], 'tick': 32}\n",
      "{'map': array([0, 0, 0, ..., 0, 0, 0]), 'cars': [\"I'm at 89\", \"I'm at 119\", \"I'm at 149\", \"I'm at 179\", \"I'm at 209\", \"I'm at 239\", \"I'm at 269\", \"I'm at 299\", \"I'm at 329\", \"I'm at 359\", \"I'm at 389\", \"I'm at 419\", \"I'm at 449\", \"I'm at 479\", \"I'm at 509\", \"I'm at 539\", \"I'm at 569\", \"I'm at 599\", \"I'm at 629\", \"I'm at 659\", \"I'm at 689\", \"I'm at 719\", \"I'm at 749\", \"I'm at 779\", \"I'm at 809\", \"I'm at 839\", \"I'm at 869\", \"I'm at 899\", \"I'm at 929\", \"I'm at 959\"], 'tick': 33}\n",
      "{'map': array([0, 0, 0, ..., 0, 0, 0]), 'cars': [\"I'm at 122\", \"I'm at 152\", \"I'm at 182\", \"I'm at 212\", \"I'm at 242\", \"I'm at 272\", \"I'm at 302\", \"I'm at 332\", \"I'm at 362\", \"I'm at 392\", \"I'm at 422\", \"I'm at 452\", \"I'm at 482\", \"I'm at 512\", \"I'm at 542\", \"I'm at 572\", \"I'm at 602\", \"I'm at 632\", \"I'm at 662\", \"I'm at 692\", \"I'm at 722\", \"I'm at 752\", \"I'm at 782\", \"I'm at 812\", \"I'm at 842\", \"I'm at 872\", \"I'm at 902\", \"I'm at 932\", \"I'm at 962\", \"I'm at 992\"], 'tick': 34}\n",
      "{'map': array([0, 0, 0, ..., 0, 0, 0]), 'cars': [\"I'm at 155\", \"I'm at 185\", \"I'm at 215\", \"I'm at 245\", \"I'm at 275\", \"I'm at 305\", \"I'm at 335\", \"I'm at 365\", \"I'm at 395\", \"I'm at 425\", \"I'm at 455\", \"I'm at 485\", \"I'm at 515\", \"I'm at 545\", \"I'm at 575\", \"I'm at 605\", \"I'm at 635\", \"I'm at 665\", \"I'm at 695\", \"I'm at 725\", \"I'm at 755\", \"I'm at 785\", \"I'm at 815\", \"I'm at 845\", \"I'm at 875\", \"I'm at 905\", \"I'm at 935\", \"I'm at 965\", \"I'm at 995\", \"I'm at 25\"], 'tick': 35}\n",
      "{'map': array([0, 0, 0, ..., 0, 0, 0]), 'cars': [\"I'm at 188\", \"I'm at 218\", \"I'm at 248\", \"I'm at 278\", \"I'm at 308\", \"I'm at 338\", \"I'm at 368\", \"I'm at 398\", \"I'm at 428\", \"I'm at 458\", \"I'm at 488\", \"I'm at 518\", \"I'm at 548\", \"I'm at 578\", \"I'm at 608\", \"I'm at 638\", \"I'm at 668\", \"I'm at 698\", \"I'm at 728\", \"I'm at 758\", \"I'm at 788\", \"I'm at 818\", \"I'm at 848\", \"I'm at 878\", \"I'm at 908\", \"I'm at 938\", \"I'm at 968\", \"I'm at 998\", \"I'm at 28\", \"I'm at 58\"], 'tick': 36}\n",
      "{'map': array([0, 1, 1, ..., 0, 0, 0]), 'cars': [\"I'm at 221\", \"I'm at 251\", \"I'm at 281\", \"I'm at 311\", \"I'm at 341\", \"I'm at 371\", \"I'm at 401\", \"I'm at 431\", \"I'm at 461\", \"I'm at 491\", \"I'm at 521\", \"I'm at 551\", \"I'm at 581\", \"I'm at 611\", \"I'm at 641\", \"I'm at 671\", \"I'm at 701\", \"I'm at 731\", \"I'm at 761\", \"I'm at 791\", \"I'm at 821\", \"I'm at 851\", \"I'm at 881\", \"I'm at 911\", \"I'm at 941\", \"I'm at 971\", \"I'm at 1\", \"I'm at 31\", \"I'm at 61\", \"I'm at 91\"], 'tick': 37}\n",
      "{'map': array([0, 0, 0, ..., 0, 0, 0]), 'cars': [\"I'm at 254\", \"I'm at 284\", \"I'm at 314\", \"I'm at 344\", \"I'm at 374\", \"I'm at 404\", \"I'm at 434\", \"I'm at 464\", \"I'm at 494\", \"I'm at 524\", \"I'm at 554\", \"I'm at 584\", \"I'm at 614\", \"I'm at 644\", \"I'm at 674\", \"I'm at 704\", \"I'm at 734\", \"I'm at 764\", \"I'm at 794\", \"I'm at 824\", \"I'm at 854\", \"I'm at 884\", \"I'm at 914\", \"I'm at 944\", \"I'm at 974\", \"I'm at 4\", \"I'm at 34\", \"I'm at 64\", \"I'm at 94\", \"I'm at 124\"], 'tick': 38}\n",
      "{'map': array([0, 0, 0, ..., 0, 0, 0]), 'cars': [\"I'm at 287\", \"I'm at 317\", \"I'm at 347\", \"I'm at 377\", \"I'm at 407\", \"I'm at 437\", \"I'm at 467\", \"I'm at 497\", \"I'm at 527\", \"I'm at 557\", \"I'm at 587\", \"I'm at 617\", \"I'm at 647\", \"I'm at 677\", \"I'm at 707\", \"I'm at 737\", \"I'm at 767\", \"I'm at 797\", \"I'm at 827\", \"I'm at 857\", \"I'm at 887\", \"I'm at 917\", \"I'm at 947\", \"I'm at 977\", \"I'm at 7\", \"I'm at 37\", \"I'm at 67\", \"I'm at 97\", \"I'm at 127\", \"I'm at 157\"], 'tick': 39}\n",
      "{'map': array([0, 0, 0, ..., 0, 0, 0]), 'cars': [\"I'm at 320\", \"I'm at 350\", \"I'm at 380\", \"I'm at 410\", \"I'm at 440\", \"I'm at 470\", \"I'm at 500\", \"I'm at 530\", \"I'm at 560\", \"I'm at 590\", \"I'm at 620\", \"I'm at 650\", \"I'm at 680\", \"I'm at 710\", \"I'm at 740\", \"I'm at 770\", \"I'm at 800\", \"I'm at 830\", \"I'm at 860\", \"I'm at 890\", \"I'm at 920\", \"I'm at 950\", \"I'm at 980\", \"I'm at 10\", \"I'm at 40\", \"I'm at 70\", \"I'm at 100\", \"I'm at 130\", \"I'm at 160\", \"I'm at 190\"], 'tick': 40}\n",
      "{'map': array([0, 0, 0, ..., 0, 0, 0]), 'cars': [\"I'm at 353\", \"I'm at 383\", \"I'm at 413\", \"I'm at 443\", \"I'm at 473\", \"I'm at 503\", \"I'm at 533\", \"I'm at 563\", \"I'm at 593\", \"I'm at 623\", \"I'm at 653\", \"I'm at 683\", \"I'm at 713\", \"I'm at 743\", \"I'm at 773\", \"I'm at 803\", \"I'm at 833\", \"I'm at 863\", \"I'm at 893\", \"I'm at 923\", \"I'm at 953\", \"I'm at 983\", \"I'm at 13\", \"I'm at 43\", \"I'm at 73\", \"I'm at 103\", \"I'm at 133\", \"I'm at 163\", \"I'm at 193\", \"I'm at 223\"], 'tick': 41}\n",
      "{'map': array([0, 0, 0, ..., 0, 0, 0]), 'cars': [\"I'm at 386\", \"I'm at 416\", \"I'm at 446\", \"I'm at 476\", \"I'm at 506\", \"I'm at 536\", \"I'm at 566\", \"I'm at 596\", \"I'm at 626\", \"I'm at 656\", \"I'm at 686\", \"I'm at 716\", \"I'm at 746\", \"I'm at 776\", \"I'm at 806\", \"I'm at 836\", \"I'm at 866\", \"I'm at 896\", \"I'm at 926\", \"I'm at 956\", \"I'm at 986\", \"I'm at 16\", \"I'm at 46\", \"I'm at 76\", \"I'm at 106\", \"I'm at 136\", \"I'm at 166\", \"I'm at 196\", \"I'm at 226\", \"I'm at 256\"], 'tick': 42}\n",
      "{'map': array([0, 0, 0, ..., 0, 0, 0]), 'cars': [\"I'm at 419\", \"I'm at 449\", \"I'm at 479\", \"I'm at 509\", \"I'm at 539\", \"I'm at 569\", \"I'm at 599\", \"I'm at 629\", \"I'm at 659\", \"I'm at 689\", \"I'm at 719\", \"I'm at 749\", \"I'm at 779\", \"I'm at 809\", \"I'm at 839\", \"I'm at 869\", \"I'm at 899\", \"I'm at 929\", \"I'm at 959\", \"I'm at 989\", \"I'm at 19\", \"I'm at 49\", \"I'm at 79\", \"I'm at 109\", \"I'm at 139\", \"I'm at 169\", \"I'm at 199\", \"I'm at 229\", \"I'm at 259\", \"I'm at 289\"], 'tick': 43}\n",
      "{'map': array([0, 0, 0, ..., 0, 0, 0]), 'cars': [\"I'm at 452\", \"I'm at 482\", \"I'm at 512\", \"I'm at 542\", \"I'm at 572\", \"I'm at 602\", \"I'm at 632\", \"I'm at 662\", \"I'm at 692\", \"I'm at 722\", \"I'm at 752\", \"I'm at 782\", \"I'm at 812\", \"I'm at 842\", \"I'm at 872\", \"I'm at 902\", \"I'm at 932\", \"I'm at 962\", \"I'm at 992\", \"I'm at 22\", \"I'm at 52\", \"I'm at 82\", \"I'm at 112\", \"I'm at 142\", \"I'm at 172\", \"I'm at 202\", \"I'm at 232\", \"I'm at 262\", \"I'm at 292\", \"I'm at 322\"], 'tick': 44}\n",
      "{'map': array([0, 0, 0, ..., 0, 0, 0]), 'cars': [\"I'm at 485\", \"I'm at 515\", \"I'm at 545\", \"I'm at 575\", \"I'm at 605\", \"I'm at 635\", \"I'm at 665\", \"I'm at 695\", \"I'm at 725\", \"I'm at 755\", \"I'm at 785\", \"I'm at 815\", \"I'm at 845\", \"I'm at 875\", \"I'm at 905\", \"I'm at 935\", \"I'm at 965\", \"I'm at 995\", \"I'm at 25\", \"I'm at 55\", \"I'm at 85\", \"I'm at 115\", \"I'm at 145\", \"I'm at 175\", \"I'm at 205\", \"I'm at 235\", \"I'm at 265\", \"I'm at 295\", \"I'm at 325\", \"I'm at 355\"], 'tick': 45}\n",
      "{'map': array([0, 0, 0, ..., 0, 0, 0]), 'cars': [\"I'm at 518\", \"I'm at 548\", \"I'm at 578\", \"I'm at 608\", \"I'm at 638\", \"I'm at 668\", \"I'm at 698\", \"I'm at 728\", \"I'm at 758\", \"I'm at 788\", \"I'm at 818\", \"I'm at 848\", \"I'm at 878\", \"I'm at 908\", \"I'm at 938\", \"I'm at 968\", \"I'm at 998\", \"I'm at 28\", \"I'm at 58\", \"I'm at 88\", \"I'm at 118\", \"I'm at 148\", \"I'm at 178\", \"I'm at 208\", \"I'm at 238\", \"I'm at 268\", \"I'm at 298\", \"I'm at 328\", \"I'm at 358\", \"I'm at 388\"], 'tick': 46}\n",
      "{'map': array([0, 1, 1, ..., 0, 0, 0]), 'cars': [\"I'm at 551\", \"I'm at 581\", \"I'm at 611\", \"I'm at 641\", \"I'm at 671\", \"I'm at 701\", \"I'm at 731\", \"I'm at 761\", \"I'm at 791\", \"I'm at 821\", \"I'm at 851\", \"I'm at 881\", \"I'm at 911\", \"I'm at 941\", \"I'm at 971\", \"I'm at 1\", \"I'm at 31\", \"I'm at 61\", \"I'm at 91\", \"I'm at 121\", \"I'm at 151\", \"I'm at 181\", \"I'm at 211\", \"I'm at 241\", \"I'm at 271\", \"I'm at 301\", \"I'm at 331\", \"I'm at 361\", \"I'm at 391\", \"I'm at 421\"], 'tick': 47}\n",
      "{'map': array([0, 0, 0, ..., 0, 0, 0]), 'cars': [\"I'm at 584\", \"I'm at 614\", \"I'm at 644\", \"I'm at 674\", \"I'm at 704\", \"I'm at 734\", \"I'm at 764\", \"I'm at 794\", \"I'm at 824\", \"I'm at 854\", \"I'm at 884\", \"I'm at 914\", \"I'm at 944\", \"I'm at 974\", \"I'm at 4\", \"I'm at 34\", \"I'm at 64\", \"I'm at 94\", \"I'm at 124\", \"I'm at 154\", \"I'm at 184\", \"I'm at 214\", \"I'm at 244\", \"I'm at 274\", \"I'm at 304\", \"I'm at 334\", \"I'm at 364\", \"I'm at 394\", \"I'm at 424\", \"I'm at 454\"], 'tick': 48}\n",
      "{'map': array([0, 0, 0, ..., 0, 0, 0]), 'cars': [\"I'm at 617\", \"I'm at 647\", \"I'm at 677\", \"I'm at 707\", \"I'm at 737\", \"I'm at 767\", \"I'm at 797\", \"I'm at 827\", \"I'm at 857\", \"I'm at 887\", \"I'm at 917\", \"I'm at 947\", \"I'm at 977\", \"I'm at 7\", \"I'm at 37\", \"I'm at 67\", \"I'm at 97\", \"I'm at 127\", \"I'm at 157\", \"I'm at 187\", \"I'm at 217\", \"I'm at 247\", \"I'm at 277\", \"I'm at 307\", \"I'm at 337\", \"I'm at 367\", \"I'm at 397\", \"I'm at 427\", \"I'm at 457\", \"I'm at 487\"], 'tick': 49}\n",
      "{'map': array([0, 0, 0, ..., 0, 0, 0]), 'cars': [\"I'm at 650\", \"I'm at 680\", \"I'm at 710\", \"I'm at 740\", \"I'm at 770\", \"I'm at 800\", \"I'm at 830\", \"I'm at 860\", \"I'm at 890\", \"I'm at 920\", \"I'm at 950\", \"I'm at 980\", \"I'm at 10\", \"I'm at 40\", \"I'm at 70\", \"I'm at 100\", \"I'm at 130\", \"I'm at 160\", \"I'm at 190\", \"I'm at 220\", \"I'm at 250\", \"I'm at 280\", \"I'm at 310\", \"I'm at 340\", \"I'm at 370\", \"I'm at 400\", \"I'm at 430\", \"I'm at 460\", \"I'm at 490\", \"I'm at 520\"], 'tick': 50}\n",
      "{'map': array([0, 0, 0, ..., 0, 0, 0]), 'cars': [\"I'm at 683\", \"I'm at 713\", \"I'm at 743\", \"I'm at 773\", \"I'm at 803\", \"I'm at 833\", \"I'm at 863\", \"I'm at 893\", \"I'm at 923\", \"I'm at 953\", \"I'm at 983\", \"I'm at 13\", \"I'm at 43\", \"I'm at 73\", \"I'm at 103\", \"I'm at 133\", \"I'm at 163\", \"I'm at 193\", \"I'm at 223\", \"I'm at 253\", \"I'm at 283\", \"I'm at 313\", \"I'm at 343\", \"I'm at 373\", \"I'm at 403\", \"I'm at 433\", \"I'm at 463\", \"I'm at 493\", \"I'm at 523\", \"I'm at 553\"], 'tick': 51}\n",
      "{'map': array([0, 0, 0, ..., 0, 0, 0]), 'cars': [\"I'm at 716\", \"I'm at 746\", \"I'm at 776\", \"I'm at 806\", \"I'm at 836\", \"I'm at 866\", \"I'm at 896\", \"I'm at 926\", \"I'm at 956\", \"I'm at 986\", \"I'm at 16\", \"I'm at 46\", \"I'm at 76\", \"I'm at 106\", \"I'm at 136\", \"I'm at 166\", \"I'm at 196\", \"I'm at 226\", \"I'm at 256\", \"I'm at 286\", \"I'm at 316\", \"I'm at 346\", \"I'm at 376\", \"I'm at 406\", \"I'm at 436\", \"I'm at 466\", \"I'm at 496\", \"I'm at 526\", \"I'm at 556\", \"I'm at 586\"], 'tick': 52}\n",
      "{'map': array([0, 0, 0, ..., 0, 0, 0]), 'cars': [\"I'm at 749\", \"I'm at 779\", \"I'm at 809\", \"I'm at 839\", \"I'm at 869\", \"I'm at 899\", \"I'm at 929\", \"I'm at 959\", \"I'm at 989\", \"I'm at 19\", \"I'm at 49\", \"I'm at 79\", \"I'm at 109\", \"I'm at 139\", \"I'm at 169\", \"I'm at 199\", \"I'm at 229\", \"I'm at 259\", \"I'm at 289\", \"I'm at 319\", \"I'm at 349\", \"I'm at 379\", \"I'm at 409\", \"I'm at 439\", \"I'm at 469\", \"I'm at 499\", \"I'm at 529\", \"I'm at 559\", \"I'm at 589\", \"I'm at 619\"], 'tick': 53}\n",
      "{'map': array([0, 0, 0, ..., 0, 0, 0]), 'cars': [\"I'm at 782\", \"I'm at 812\", \"I'm at 842\", \"I'm at 872\", \"I'm at 902\", \"I'm at 932\", \"I'm at 962\", \"I'm at 992\", \"I'm at 22\", \"I'm at 52\", \"I'm at 82\", \"I'm at 112\", \"I'm at 142\", \"I'm at 172\", \"I'm at 202\", \"I'm at 232\", \"I'm at 262\", \"I'm at 292\", \"I'm at 322\", \"I'm at 352\", \"I'm at 382\", \"I'm at 412\", \"I'm at 442\", \"I'm at 472\", \"I'm at 502\", \"I'm at 532\", \"I'm at 562\", \"I'm at 592\", \"I'm at 622\", \"I'm at 652\"], 'tick': 54}\n",
      "{'map': array([0, 0, 0, ..., 0, 0, 0]), 'cars': [\"I'm at 815\", \"I'm at 845\", \"I'm at 875\", \"I'm at 905\", \"I'm at 935\", \"I'm at 965\", \"I'm at 995\", \"I'm at 25\", \"I'm at 55\", \"I'm at 85\", \"I'm at 115\", \"I'm at 145\", \"I'm at 175\", \"I'm at 205\", \"I'm at 235\", \"I'm at 265\", \"I'm at 295\", \"I'm at 325\", \"I'm at 355\", \"I'm at 385\", \"I'm at 415\", \"I'm at 445\", \"I'm at 475\", \"I'm at 505\", \"I'm at 535\", \"I'm at 565\", \"I'm at 595\", \"I'm at 625\", \"I'm at 655\", \"I'm at 685\"], 'tick': 55}\n",
      "{'map': array([0, 0, 0, ..., 0, 0, 0]), 'cars': [\"I'm at 848\", \"I'm at 878\", \"I'm at 908\", \"I'm at 938\", \"I'm at 968\", \"I'm at 998\", \"I'm at 28\", \"I'm at 58\", \"I'm at 88\", \"I'm at 118\", \"I'm at 148\", \"I'm at 178\", \"I'm at 208\", \"I'm at 238\", \"I'm at 268\", \"I'm at 298\", \"I'm at 328\", \"I'm at 358\", \"I'm at 388\", \"I'm at 418\", \"I'm at 448\", \"I'm at 478\", \"I'm at 508\", \"I'm at 538\", \"I'm at 568\", \"I'm at 598\", \"I'm at 628\", \"I'm at 658\", \"I'm at 688\", \"I'm at 718\"], 'tick': 56}\n",
      "{'map': array([0, 1, 1, ..., 0, 0, 0]), 'cars': [\"I'm at 881\", \"I'm at 911\", \"I'm at 941\", \"I'm at 971\", \"I'm at 1\", \"I'm at 31\", \"I'm at 61\", \"I'm at 91\", \"I'm at 121\", \"I'm at 151\", \"I'm at 181\", \"I'm at 211\", \"I'm at 241\", \"I'm at 271\", \"I'm at 301\", \"I'm at 331\", \"I'm at 361\", \"I'm at 391\", \"I'm at 421\", \"I'm at 451\", \"I'm at 481\", \"I'm at 511\", \"I'm at 541\", \"I'm at 571\", \"I'm at 601\", \"I'm at 631\", \"I'm at 661\", \"I'm at 691\", \"I'm at 721\", \"I'm at 751\"], 'tick': 57}\n",
      "{'map': array([0, 0, 0, ..., 0, 0, 0]), 'cars': [\"I'm at 914\", \"I'm at 944\", \"I'm at 974\", \"I'm at 4\", \"I'm at 34\", \"I'm at 64\", \"I'm at 94\", \"I'm at 124\", \"I'm at 154\", \"I'm at 184\", \"I'm at 214\", \"I'm at 244\", \"I'm at 274\", \"I'm at 304\", \"I'm at 334\", \"I'm at 364\", \"I'm at 394\", \"I'm at 424\", \"I'm at 454\", \"I'm at 484\", \"I'm at 514\", \"I'm at 544\", \"I'm at 574\", \"I'm at 604\", \"I'm at 634\", \"I'm at 664\", \"I'm at 694\", \"I'm at 724\", \"I'm at 754\", \"I'm at 784\"], 'tick': 58}\n",
      "{'map': array([0, 0, 0, ..., 0, 0, 0]), 'cars': [\"I'm at 947\", \"I'm at 977\", \"I'm at 7\", \"I'm at 37\", \"I'm at 67\", \"I'm at 97\", \"I'm at 127\", \"I'm at 157\", \"I'm at 187\", \"I'm at 217\", \"I'm at 247\", \"I'm at 277\", \"I'm at 307\", \"I'm at 337\", \"I'm at 367\", \"I'm at 397\", \"I'm at 427\", \"I'm at 457\", \"I'm at 487\", \"I'm at 517\", \"I'm at 547\", \"I'm at 577\", \"I'm at 607\", \"I'm at 637\", \"I'm at 667\", \"I'm at 697\", \"I'm at 727\", \"I'm at 757\", \"I'm at 787\", \"I'm at 817\"], 'tick': 59}\n"
     ]
    }
   ],
   "source": [
    "sim = Sim()\n",
    "sim.run()\n"
   ]
  },
  {
   "cell_type": "code",
   "execution_count": null,
   "metadata": {
    "collapsed": false
   },
   "outputs": [],
   "source": []
  },
  {
   "cell_type": "code",
   "execution_count": null,
   "metadata": {
    "collapsed": true
   },
   "outputs": [],
   "source": []
  }
 ],
 "metadata": {
  "kernelspec": {
   "display_name": "Python 3",
   "language": "python",
   "name": "python3"
  },
  "language_info": {
   "codemirror_mode": {
    "name": "ipython",
    "version": 3
   },
   "file_extension": ".py",
   "mimetype": "text/x-python",
   "name": "python",
   "nbconvert_exporter": "python",
   "pygments_lexer": "ipython3",
   "version": "3.4.3"
  }
 },
 "nbformat": 4,
 "nbformat_minor": 0
}
